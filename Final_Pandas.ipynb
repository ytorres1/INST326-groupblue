{
 "cells": [
  {
   "cell_type": "code",
   "execution_count": 77,
   "id": "5ddc5a12-eb13-4af2-a80a-da97cdfaa34b",
   "metadata": {},
   "outputs": [
    {
     "name": "stdin",
     "output_type": "stream",
     "text": [
      "Please provide the name of the csv you want to use. Make sure to add the .csv\n",
      " guests3.csv\n"
     ]
    },
    {
     "name": "stdout",
     "output_type": "stream",
     "text": [
      "   First Name Last Name RSVP Status\n",
      "0      Shiloh    Herman         Yes\n",
      "1       Juelz      Duke         Yes\n",
      "2      Melani      Rose         Yes\n",
      "3      Hayden    Peters          No\n",
      "4       Leila    Steele          No\n",
      "5       Elian      Kirk         Yes\n",
      "6       Ellis   Carlson         Yes\n",
      "7        Paul  Bradford         Yes\n",
      "8        Rhea    Holmes         Yes\n",
      "9        King      Hail         Yes\n",
      "10     Lainey     Carey          No\n",
      "11     Watson     McCoy         Yes\n",
      "12   Mckenzie  Guerrero         Yes\n",
      "13      Bryce  McIntyre         Yes\n",
      "14    Rebekah     Mason          No\n",
      "15    Brandon      Hail          No\n",
      "16     Lainey  Franklin          No\n",
      "17      Simon       Lin         Yes\n",
      "['Vegetarian' 'None' 'Halal']\n"
     ]
    }
   ],
   "source": [
    "import pandas as pd\n",
    "import matplotlib.pyplot\n",
    "import seaborn as sns\n",
    "df_name = input(\"Please provide the name of the csv you want to use. Make sure to add the .csv\\n\")\n",
    "df = pd.read_csv(df_name)\n",
    "\n",
    "\n",
    "\n",
    "# RSVP Guest List\n",
    "guestlist_df = df.loc[:, ['First Name', 'Last Name', 'RSVP Status']]\n",
    "print(guestlist_df)\n",
    "print(df1['Dietary Restriction'].unique())"
   ]
  },
  {
   "cell_type": "markdown",
   "id": "12467947-f98e-4182-86b0-2ca2a1d110cc",
   "metadata": {},
   "source": [
    "### Uses .loc with boolean indexing to only get the names and rsvp status. The :, in loc indicates that all rows in that column will be selected."
   ]
  },
  {
   "cell_type": "code",
   "execution_count": 78,
   "id": "9b562d33-0b33-4db5-966e-8b97efd04b31",
   "metadata": {},
   "outputs": [
    {
     "name": "stdout",
     "output_type": "stream",
     "text": [
      "F    10\n",
      "M     8\n",
      "Name: Sex, dtype: int64\n"
     ]
    },
    {
     "data": {
      "text/plain": [
       "<Axes: >"
      ]
     },
     "execution_count": 78,
     "metadata": {},
     "output_type": "execute_result"
    },
    {
     "data": {
      "image/png": "[encoded data removed]",
      "text/plain": [
       "<Figure size 432x288 with 1 Axes>"
      ]
     },
     "metadata": {
      "needs_background": "light"
     },
     "output_type": "display_data"
    }
   ],
   "source": [
    "\n",
    "\n",
    "sex_df = df['Sex'].value_counts()\n",
    "print(sex_df)\n",
    "sex_df.plot.bar(x=['Male', 'Female'], y=sex_df)\n"
   ]
  },
  {
   "cell_type": "code",
   "execution_count": 80,
   "id": "78366026-ea92-4436-91ea-0851c75f3ce8",
   "metadata": {},
   "outputs": [
    {
     "data": {
      "text/plain": [
       "<Axes: xlabel='Age Group'>"
      ]
     },
     "execution_count": 80,
     "metadata": {},
     "output_type": "execute_result"
    },
    {
     "data": {
      "image/png": "[encoded data removed]",
      "text/plain": [
       "<Figure size 432x288 with 1 Axes>"
      ]
     },
     "metadata": {
      "needs_background": "light"
     },
     "output_type": "display_data"
    }
   ],
   "source": [
    "children = df['Age'] <= 12\n",
    "teenagers = (df['Age'] > 12) & (df['Age'] <= 21)\n",
    "adults = df['Age'] > 21\n",
    "\n",
    "age_groups = ['Children', 'Teenagers', 'Adults']\n",
    "age_counts = [len(df[children]), len(df[teenagers]), len(df[adults])]\n",
    "age_counts_df = pd.DataFrame({'Age Group': age_groups, 'Count': age_counts})\n",
    "age_counts_df.plot.bar(x='Age Group', y='Count')"
   ]
  },
  {
   "cell_type": "markdown",
   "id": "187dffa1-0122-4a0d-8a28-a61d107a747e",
   "metadata": {},
   "source": []
  }
 ],
 "metadata": {
  "kernelspec": {
   "display_name": "Python 3 (ipykernel)",
   "language": "python",
   "name": "python3"
  },
  "language_info": {
   "codemirror_mode": {
    "name": "ipython",
    "version": 3
   },
   "file_extension": ".py",
   "mimetype": "text/x-python",
   "name": "python",
   "nbconvert_exporter": "python",
   "pygments_lexer": "ipython3",
   "version": "3.10.2"
  }
 },
 "nbformat": 4,
 "nbformat_minor": 5
}
